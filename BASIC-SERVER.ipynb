{
 "metadata": {
  "name": "BASIC-SERVER"
 },
 "nbformat": 3,
 "nbformat_minor": 0,
 "worksheets": [
  {
   "cells": [
    {
     "cell_type": "code",
     "collapsed": false,
     "input": [
      "##############################################################\n",
      "## Basic Server:\n",
      "import socket\n",
      "import re\n",
      "import RPi.GPIO as GPIO\n",
      "from RPIO import PWM\n",
      "\n",
      "GPIO.setmode(GPIO.BOARD)\n",
      "GPIO.setwarnings(False)\n",
      "GPIO.setup(3, GPIO.OUT)\n",
      "\n",
      "servo = PWM.Servo()\n",
      "\n",
      "def light1(status):\n",
      "    if(status):\n",
      "        GPIO.output(3, GPIO.HIGH)\n",
      "    else:\n",
      "        GPIO.output(3, GPIO.LOW)\n",
      "\n",
      "def servoAction(status):\n",
      "    if(status):\n",
      "        servo.set_servo(17, 800)\n",
      "    else:\n",
      "        servo.set_servo(17, 2500)\n",
      "\n",
      "host = ''\n",
      "port = 1414\n",
      "sock = socket.socket(socket.AF_INET, socket.SOCK_STREAM)\n",
      "sock.setsockopt(socket.SOL_SOCKET, socket.SO_REUSEADDR, 1)\n",
      "sock.bind((host, port))\n",
      "sock.listen(1)\n",
      "\n",
      "while True:\n",
      "    csock, caddr = sock.accept()\n",
      "    #print \"Connection from: \" + `caddr`\n",
      "    req = csock.recv(1024)\n",
      "    match = re.match('GET /action=(\\d+)\\sHTTP/1', req)\n",
      "    #print match\n",
      "    if match:\n",
      "        action   = match.group(1)\n",
      "        #servo1_pos = match.group(2)\n",
      "        #print action + \"\\n\"\n",
      "        #print servo1_pos\n",
      "        \n",
      "        if int(action) == 0:\n",
      "            light1(False)\n",
      "        elif int(action) == 1:\n",
      "            light1(True)\n",
      "        elif int(action) == 2:\n",
      "            servoAction(True)\n",
      "        elif int(action) == 3:\n",
      "            servoAction(False)\n",
      "            "
     ],
     "language": "python",
     "metadata": {},
     "outputs": [],
     "prompt_number": "*"
    },
    {
     "cell_type": "code",
     "collapsed": false,
     "input": [],
     "language": "python",
     "metadata": {},
     "outputs": [],
     "prompt_number": 9
    },
    {
     "cell_type": "code",
     "collapsed": false,
     "input": [],
     "language": "python",
     "metadata": {},
     "outputs": []
    }
   ],
   "metadata": {}
  }
 ]
}