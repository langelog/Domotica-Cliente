{
 "metadata": {
  "name": "Client"
 },
 "nbformat": 3,
 "nbformat_minor": 0,
 "worksheets": [
  {
   "cells": [
    {
     "cell_type": "code",
     "collapsed": false,
     "input": [
      "import socket\n",
      "\n",
      "sock = socket.socket(socket.AF_INET, socket.SOCK_DGRAM)\n",
      "\n",
      "server_address = ('localhost', 1313)\n",
      "message = 'This is the message.'\n",
      "\n",
      "try:\n",
      "    print 'Sending: ' + message\n",
      "    sent = sock.sendto(message, server_address)\n",
      "    \n",
      "    #print 'waiting to receive'\n",
      "    #data, server = sock.recvfrom(1024)\n",
      "    #print 'Received: ' + data\n",
      "    \n",
      "finally:\n",
      "    print 'Closing socket'\n",
      "    sock.close()\n",
      "    "
     ],
     "language": "python",
     "metadata": {},
     "outputs": [
      {
       "output_type": "stream",
       "stream": "stdout",
       "text": [
        "Sending: This is the message.\n",
        "Closing socket\n"
       ]
      }
     ],
     "prompt_number": 2
    },
    {
     "cell_type": "code",
     "collapsed": false,
     "input": [],
     "language": "python",
     "metadata": {},
     "outputs": []
    }
   ],
   "metadata": {}
  }
 ]
}