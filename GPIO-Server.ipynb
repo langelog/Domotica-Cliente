{
 "metadata": {
  "name": "GPIO-Server"
 },
 "nbformat": 3,
 "nbformat_minor": 0,
 "worksheets": [
  {
   "cells": [
    {
     "cell_type": "code",
     "collapsed": false,
     "input": [
      "##############################################################\n",
      "## SERVIDOR\n",
      "import socket\n",
      "import sys\n",
      "\n",
      "sock = socket.socket(socket.AF_INET, socket.SOCK_DGRAM)\n",
      "\n",
      "server_address = ('localhost', 1313)\n",
      "print >>sys.stderr, 'starting up on %s port %s' % server_address\n",
      "sock.setsockopt(socket.SOL_SOCKET, socket.SO_REUSEADDR, 1)\n",
      "sock.bind(server_address)\n",
      "\n",
      "while True:\n",
      "    print >>sys.stderr, '\\nwaiting to receive message'\n",
      "    data, address = sock.recvfrom(4096)\n",
      "    \n",
      "    print >>sys.stderr, 'received %s bytes from %s' % (len(data), address)\n",
      "    print >>sys.stderr, data\n",
      "    \n",
      "    if data:\n",
      "        sent = sock.sendto(data, address)\n",
      "        print >>sys.stderr, 'sent %s bytes back to %s' % (sent, address)"
     ],
     "language": "python",
     "metadata": {},
     "outputs": [
      {
       "ename": "KeyboardInterrupt",
       "evalue": "",
       "output_type": "pyerr",
       "traceback": [
        "\u001b[0;31m---------------------------------------------------------------------------\u001b[0m\n\u001b[0;31mKeyboardInterrupt\u001b[0m                         Traceback (most recent call last)",
        "\u001b[0;32m<ipython-input-23-0df4c416b7b5>\u001b[0m in \u001b[0;36m<module>\u001b[0;34m()\u001b[0m\n\u001b[1;32m     11\u001b[0m \u001b[0;32mwhile\u001b[0m \u001b[0mTrue\u001b[0m\u001b[0;34m:\u001b[0m\u001b[0;34m\u001b[0m\u001b[0m\n\u001b[1;32m     12\u001b[0m     \u001b[0;32mprint\u001b[0m \u001b[0;34m>>\u001b[0m\u001b[0msys\u001b[0m\u001b[0;34m.\u001b[0m\u001b[0mstderr\u001b[0m\u001b[0;34m,\u001b[0m \u001b[0;34m'\\nwaiting to receive message'\u001b[0m\u001b[0;34m\u001b[0m\u001b[0m\n\u001b[0;32m---> 13\u001b[0;31m     \u001b[0mdata\u001b[0m\u001b[0;34m,\u001b[0m \u001b[0maddress\u001b[0m \u001b[0;34m=\u001b[0m \u001b[0msock\u001b[0m\u001b[0;34m.\u001b[0m\u001b[0mrecvfrom\u001b[0m\u001b[0;34m(\u001b[0m\u001b[0;36m4096\u001b[0m\u001b[0;34m)\u001b[0m\u001b[0;34m\u001b[0m\u001b[0m\n\u001b[0m\u001b[1;32m     14\u001b[0m \u001b[0;34m\u001b[0m\u001b[0m\n\u001b[1;32m     15\u001b[0m     \u001b[0;32mprint\u001b[0m \u001b[0;34m>>\u001b[0m\u001b[0msys\u001b[0m\u001b[0;34m.\u001b[0m\u001b[0mstderr\u001b[0m\u001b[0;34m,\u001b[0m \u001b[0;34m'received %s bytes from %s'\u001b[0m \u001b[0;34m%\u001b[0m \u001b[0;34m(\u001b[0m\u001b[0mlen\u001b[0m\u001b[0;34m(\u001b[0m\u001b[0mdata\u001b[0m\u001b[0;34m)\u001b[0m\u001b[0;34m,\u001b[0m \u001b[0maddress\u001b[0m\u001b[0;34m)\u001b[0m\u001b[0;34m\u001b[0m\u001b[0m\n",
        "\u001b[0;31mKeyboardInterrupt\u001b[0m: "
       ]
      },
      {
       "output_type": "stream",
       "stream": "stderr",
       "text": [
        "starting up on localhost port 1313\n",
        "\n",
        "waiting to receive message\n"
       ]
      }
     ],
     "prompt_number": 23
    },
    {
     "cell_type": "code",
     "collapsed": false,
     "input": [
      "##############################################################\n",
      "## CLIENTE\n",
      "import socket\n",
      "import sys\n",
      "\n",
      "sock = socket.socket(socket.AF_INET, socket.SOCK_DGRAM)\n",
      "\n",
      "server_address = ('localhost', 1313)\n",
      "message = 'This is the message. It will be repeated.'\n",
      "\n",
      "try:\n",
      "    print >>sys.stderr, 'sending \"%s\"' % message\n",
      "    sent = sock.sendto(message, server_address)\n",
      "    \n",
      "    #print >>sys.stderr, 'waiting to receive'\n",
      "    #data, server = sock.recvfrom(4096)\n",
      "    #print >>sys.stderr, 'received \"%s\"' % data\n",
      "    \n",
      "finally:\n",
      "    print >>sys.stderr, 'closing socket'\n",
      "    sock.close()"
     ],
     "language": "python",
     "metadata": {},
     "outputs": [],
     "prompt_number": 11
    },
    {
     "cell_type": "code",
     "collapsed": false,
     "input": [],
     "language": "python",
     "metadata": {},
     "outputs": []
    }
   ],
   "metadata": {}
  }
 ]
}