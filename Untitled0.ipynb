{
 "metadata": {
  "name": "Untitled0"
 },
 "nbformat": 3,
 "nbformat_minor": 0,
 "worksheets": [
  {
   "cells": [
    {
     "cell_type": "code",
     "collapsed": false,
     "input": [
      "##############################################################\n",
      "## CLIENTE\n",
      "import socket\n",
      "import sys\n",
      "\n",
      "sock = socket.socket(socket.AF_INET, socket.SOCK_DGRAM)\n",
      "\n",
      "server_address = ('localhost', 1313)\n",
      "message = 'This is the message. It will be repeated.'\n",
      "\n",
      "try:\n",
      "    print >>sys.stderr, 'sending \"%s\"' % message\n",
      "    sent = sock.sendto(message, server_address)\n",
      "    \n",
      "    print >>sys.stderr, 'waiting to receive'\n",
      "    data, server = sock.recvfrom(4096)\n",
      "    print >>sys.stderr, 'received \"%s\"' % data\n",
      "    \n",
      "finally:\n",
      "    print >>sys.stderr, 'closing socket'\n",
      "    sock.close()"
     ],
     "language": "python",
     "metadata": {},
     "outputs": []
    }
   ],
   "metadata": {}
  }
 ]
}